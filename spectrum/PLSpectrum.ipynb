{
 "cells": [
  {
   "cell_type": "code",
   "execution_count": null,
   "id": "869ad5a5",
   "metadata": {
    "tags": []
   },
   "outputs": [],
   "source": [
    "import numpy as np\n",
    "import matplotlib.pyplot as plt\n",
    "import matplotlib.ticker as ticker\n",
    "import os\n",
    "import re\n",
    "import ntpath\n",
    "import pandas as pd\n",
    "pd.options.display.max_rows = 150"
   ]
  },
  {
   "cell_type": "code",
   "execution_count": null,
   "id": "be0d5de0",
   "metadata": {
    "tags": []
   },
   "outputs": [],
   "source": [
    "def save_fig(filename, folder, trans=True, dpi=800, bbox_inches='tight', pad=0.1):\n",
    "    if not os.path.exists(folder):\n",
    "        os.makedirs(folder)\n",
    "    plt.savefig('{}/{}.png'.format(folder, filename), transparent=trans, dpi=dpi, bbox_inches=bbox_inches, pad_inches=pad) \n",
    "    return "
   ]
  },
  {
   "cell_type": "code",
   "execution_count": null,
   "id": "64e2c57a",
   "metadata": {
    "tags": []
   },
   "outputs": [],
   "source": [
    "def rebin(data, rebin_ratio, do_average=False):\n",
    "    \"\"\" Rebin a 1D array the good old way.\n",
    "    @param 1d numpy array data : The data to rebin\n",
    "    @param int rebin_ratio: The number of old bin per new bin\n",
    "    @return 1d numpy array : The array rebinned\n",
    "    The last values may be dropped if the sizes do not match. \"\"\"\n",
    "    \n",
    "    rebin_ratio = int(rebin_ratio)\n",
    "    length = (len(data) // rebin_ratio) * rebin_ratio\n",
    "    data = data[0:length]\n",
    "    data = data.reshape(length//rebin_ratio, rebin_ratio)\n",
    "    if do_average :\n",
    "        data_rebinned = data.mean(axis=1)\n",
    "    else :\n",
    "        data_rebinned = data.sum(axis=1)\n",
    "    return data_rebinned\n",
    "\n",
    "def decimate(data, decimation_ratio):\n",
    "    \"\"\" Decimate a 1D array . This means some value are dropped, not averaged\n",
    "    @param 1d numpy array data : The data to decimated\n",
    "    @param int decimation_ratio: The number of old value per new value\n",
    "    @return 1d numpy array : The array decimated. \"\"\"\n",
    "    \n",
    "    decimation_ratio = int(decimation_ratio)\n",
    "    length = (len(data) // decimation_ratio) * decimation_ratio\n",
    "    data_decimated = data[:length:decimation_ratio]\n",
    "    return data_decimated\n",
    "\n",
    "def rebin_xy(x, y, ratio=1, do_average=True):\n",
    "    \"\"\" Helper method to decimate x and rebin y, with do_average True as default. \"\"\"\n",
    "    return decimate(x, ratio), rebin(y, ratio, do_average)"
   ]
  },
  {
   "cell_type": "code",
   "execution_count": null,
   "id": "8ad8a14e",
   "metadata": {
    "tags": []
   },
   "outputs": [],
   "source": [
    "# Spectrometer offset on the grating at 75 lines\n",
    "offset_spectro = 0.018"
   ]
  },
  {
   "cell_type": "code",
   "execution_count": null,
   "id": "8b3ad0c4",
   "metadata": {
    "tags": []
   },
   "outputs": [],
   "source": [
    "def get_all_data_folders(search_str='', folder=None, file_format='', print_info=False):\n",
    "    \"\"\"Search in a folder and its subfolders all the files containing a given string in their name or filepath.\n",
    "\n",
    "    @param string search_str (optional): the string to search in the file name and filepath\n",
    "    @param string folder (optional): the folder to search into\n",
    "    @param string file_format (optional): by default return all the file format, or else specify the format like 'dat' or '.dat'\n",
    "    @param string print_info (optional): print the number of found files if true\n",
    "\n",
    "    @return list : the list of all folders in which at least a data file has been found.\n",
    "\n",
    "    \"\"\"\n",
    "\n",
    "    if folder == None:\n",
    "        search_dir = os.getcwd()\n",
    "    else:\n",
    "        search_dir = folder\n",
    "\n",
    "    valid_folders = []\n",
    "\n",
    "    if len(file_format) == 0:\n",
    "        for (dirpath, dirnames, files) in os.walk(search_dir):\n",
    "            for name in files:\n",
    "                if (search_str in name) & (dirpath not in valid_folders):\n",
    "                    valid_folders.append(dirpath)\n",
    "            for dirname in dirnames:\n",
    "                if search_str in dirname:\n",
    "                    valid_folders.append(os.path.join(dirpath, dirname))\n",
    "    else:\n",
    "        m = -len(file_format)\n",
    "        for (dirpath, dirnames, files) in os.walk(search_dir):\n",
    "            for name in files:\n",
    "                if (search_str in name) & (name[m:] == file_format) & (dirpath not in valid_folders):\n",
    "                    valid_folders.append(dirpath)\n",
    "            for dirname in dirnames:\n",
    "                if (search_str in dirname):\n",
    "                    for name in os.listdir(os.path.join(dirpath, dirname)):\n",
    "                        if (name[m:] == file_format) & (os.path.join(dirpath, dirname) not in valid_folders):\n",
    "                            valid_folders.append(os.path.join(dirpath, dirname))\n",
    "\n",
    "    if print_info:\n",
    "        print(len(valid_folders), 'folder(s) found in ', search_dir)\n",
    "\n",
    "    return valid_folders"
   ]
  },
  {
   "cell_type": "code",
   "execution_count": null,
   "id": "82dd74b3",
   "metadata": {
    "tags": []
   },
   "outputs": [],
   "source": [
    "path_all = get_all_data_folders(search_str='202308', folder=r'C:\\Users\\YB274940\\Desktop\\Data_run14', file_format='.txt', print_info=False)\n",
    "path_all"
   ]
  },
  {
   "cell_type": "code",
   "execution_count": null,
   "id": "4b5a476e",
   "metadata": {
    "tags": []
   },
   "outputs": [],
   "source": [
    "path = r'C:\\Users\\YB274940\\Desktop\\Data_run14\\20230829'\n",
    "All_files = os.listdir(path)\n",
    "\n",
    "dictionary = {}\n",
    "save_name_list = []\n",
    "frames = []\n",
    "\n",
    "for file in All_files:\n",
    "    if file.endswith('.txt'):  # Check if the file has a .txt extension\n",
    "        file_path = os.path.join(path, file)  # Create the full file path\n",
    "        pattern = \"(.*?).txt\"\n",
    "        save_name = re.search(pattern, file).group(1)\n",
    "        save_name_list.append(save_name)\n",
    "        df = pd.read_csv(path + '\\\\' + file, sep='\t', skiprows=0)\n",
    "        \n",
    "        frames.append(pd.Series({'wavelength': df.iloc[:,0], 'pl_intensity': df.iloc[:,1], 'filename': ntpath.basename(file)}).to_frame().transpose())\n",
    "    data = pd.concat(frames, sort=False).reset_index(drop=True)"
   ]
  },
  {
   "cell_type": "code",
   "execution_count": null,
   "id": "9e2fa33a",
   "metadata": {
    "tags": []
   },
   "outputs": [],
   "source": [
    "data"
   ]
  },
  {
   "cell_type": "markdown",
   "id": "2947b731",
   "metadata": {},
   "source": [
    "# Simple spectrum"
   ]
  },
  {
   "cell_type": "code",
   "execution_count": null,
   "id": "7916a326",
   "metadata": {
    "tags": []
   },
   "outputs": [],
   "source": [
    "# filename = r\"C:\\Users\\YB274940\\Desktop\\Data_run14\\20230828\\20230828_Q4E_0p8mW.txt\" # Q4E\n",
    "filename = r\"C:\\Users\\YB274940\\Desktop\\Data_run14\\20230828\\20230828_S1A_0p8mW.txt\" # S1A\n",
    "# filename = r\"S:\\120-LETI\\120.21-DPFT\\120.21.14-SSURF\\120.21.14.2-Info_communes\\WTeq\\Data_run14\\20230829\\20230829_T2A_Punknown.txt\"\n",
    "\n",
    "# filename = r\"S:\\120-LETI\\120.21-DPFT\\120.21.14-SSURF\\120.21.14.2-Info_communes\\WTeq\\Data_run14\\20230830\\20230830_T2B_f50um.txt\"\n",
    "# filename = r\"S:\\120-LETI\\120.21-DPFT\\120.21.14-SSURF\\120.21.14.2-Info_communes\\WTeq\\Data_run14\\20230830\\20230830_T2C_f50um.txt\"\n",
    "\n",
    "# filename = r\"S:\\120-LETI\\120.21-DPFT\\120.21.14-SSURF\\120.21.14.2-Info_communes\\WTeq\\Data_run14\\20230831\\20230831_T3D.txt\""
   ]
  },
  {
   "cell_type": "code",
   "execution_count": null,
   "id": "bb687328",
   "metadata": {
    "tags": []
   },
   "outputs": [],
   "source": [
    "# IMPORT DATA\n",
    "data = pd.read_csv(filename, sep='\t', skiprows=0)\n",
    "data['Wavelength_u'] = data['Wavelength']/1e3\n",
    "Wavelength = np.array(data[\"Wavelength\"], dtype=float)\n",
    "S1 = np.array(data[\"S1\"], dtype=float)\n",
    "\n",
    "x_min, x_max = data[\"Wavelength\"].min()/1e3-offset_spectro, data[\"Wavelength\"].max()/1e3-offset_spectro\n",
    "y_min, y_max = 0,(data[\"S1\"].max() + data[\"S1\"].max()*20/100)/1e3\n",
    "\n",
    "# PLOT\n",
    "fig, ax = plt.subplots(figsize=(8, 4))\n",
    "ax.set_xlim(x_min, x_max)\n",
    "ax.set_ylim(y_min, y_max)\n",
    "ax.set_xlabel(\"Wavelength [$\\mu m$]\")\n",
    "ax.set_ylabel(\"PL [kc/s]\")\n",
    "ax.xaxis.set_major_locator(plt.MaxNLocator(10))\n",
    "ax.plot(data[\"Wavelength_u\"]-offset_spectro, data[\"S1\"]/1e3, marker='None', c=\"dodgerblue\")\n",
    "ax.fill_between(Wavelength/1e3-offset_spectro, S1/1e3, color='dodgerblue', alpha=0.2)\n",
    "ax.axvline(x=1.218, color='black', ls='--', lw=0.75, alpha=0.4)\n",
    "\n",
    "# ax.fill_between([0.94,1.2], 2, color='crimson', alpha=0.05)\n",
    "# ax.text(0.98, y_max-y_max*0.1, 'Filter', color='darkred', fontweight='bold', alpha=0.7)\n",
    "\n",
    "# ax.text(0.98, y_max-y_max*0.1, 'Q4E sample', color='forestgreen', fontweight='bold')\n",
    "# ax.text(0.98, y_max-y_max*0.1, 'S1A sample', color='forestgreen', fontweight='bold')\n",
    "# ax.text(0.98, y_max-y_max*0.1, 'T2B sample', color='forestgreen', fontweight='bold')\n",
    "# ax.text(0.98, y_max-y_max*0.1, 'T2C sample', color='forestgreen', fontweight='bold')\n",
    "# ax.text(0.98, y_max-y_max*0.1, 'T2A sample', color='forestgreen', fontweight='bold')\n",
    "# ax.text(1.24, y_max-y_max*0.1, 'T3D sample', color='forestgreen', fontweight='bold')\n",
    "pass"
   ]
  },
  {
   "cell_type": "markdown",
   "id": "ae90fb1d",
   "metadata": {},
   "source": [
    "# Double spectra"
   ]
  },
  {
   "cell_type": "code",
   "execution_count": null,
   "id": "d939412c",
   "metadata": {
    "tags": []
   },
   "outputs": [],
   "source": [
    "# filename = r\"C:\\Users\\YB274940\\Desktop\\Data_run14\\20230828\\20230828_T1A_0p8mW.txt\" # T1A (28/08/2023)\n",
    "# filename_zoom = r\"C:\\Users\\YB274940\\Desktop\\Data_run14\\20230828\\20230828_T1A_0p8mW_900tr.txt\" # T1A (28/08/2023)\n",
    "\n",
    "filename = r\"S:\\120-LETI\\120.21-DPFT\\120.21.14-SSURF\\120.21.14.2-Info_communes\\WTeq\\Data_run14\\20230830\\20230830_T2D_f50um.txt\"\n",
    "filename_zoom = r\"S:\\120-LETI\\120.21-DPFT\\120.21.14-SSURF\\120.21.14.2-Info_communes\\WTeq\\Data_run14\\20230830\\20230830_T2D_f50um_900tr.txt\""
   ]
  },
  {
   "cell_type": "code",
   "execution_count": null,
   "id": "cf13a9cc",
   "metadata": {
    "tags": []
   },
   "outputs": [],
   "source": [
    "data = pd.read_csv(filename, sep='\t', skiprows=0)\n",
    "data_zoom = pd.read_csv(filename_zoom, sep='\t', skiprows=0)\n",
    "\n",
    "data['Wavelength_u'] = data['Wavelength']/1e3\n",
    "Wavelength = np.array(data[\"Wavelength\"], dtype=float)\n",
    "S1 = np.array(data[\"S1\"], dtype=float)\n",
    "\n",
    "data_zoom['Wavelength_u'] = data_zoom['Wavelength']/1e3\n",
    "Wavelength_zoom = np.array(data_zoom[\"Wavelength\"], dtype=float)\n",
    "S1_zoom = np.array(data_zoom[\"S1\"], dtype=float)\n",
    "\n",
    "# PLOT (75 lines)\n",
    "fig, ax = plt.subplots(figsize=(8, 4))\n",
    "ax.set_xlim(data[\"Wavelength\"].min()-offset_spectro*1e3+120\n",
    "            , data[\"Wavelength\"].max()-offset_spectro*1e3)\n",
    "ax.set_ylim(0,(data[\"S1\"].max() + data[\"S1\"].max()*2/100)/1e3)\n",
    "ax.set_xlabel(\"Wavelength [$nm$]\")\n",
    "ax.set_ylabel(\"PL [kc/s]\")\n",
    "ax.xaxis.set_major_locator(plt.MaxNLocator(9))\n",
    "\n",
    "ax.plot(data[\"Wavelength\"]-offset_spectro*1e3, data[\"S1\"]/1e3, marker='None', c=\"dodgerblue\", label='T2D sample')\n",
    "ax.fill_between(Wavelength-offset_spectro*1e3, S1/1e3, color='dodgerblue', alpha=0.2)\n",
    "ax.fill_between([data_zoom[\"Wavelength\"].min(), data_zoom[\"Wavelength\"].max()], 10, color='crimson', alpha=0.05)\n",
    "ax.axvline(x=1218, color='gray', ls='--', lw=0.75, label='W-center ZPL')\n",
    "\n",
    "ax.text(1225, 2.5, 'W-center ZPL', color='gray', fontweight='bold')\n",
    "ax.text(1140, 8.5, 'T2D sample', color='dodgerblue', fontweight='bold')\n",
    "\n",
    "# Inset (900 lines) #\n",
    "\n",
    "ax2 = plt.axes([0.56, 0.5, 0.32, 0.35])\n",
    "\n",
    "ax2.set_xlim(data_zoom[\"Wavelength\"].min(), data_zoom[\"Wavelength\"].max())\n",
    "ax2.set_ylim(0,(data_zoom[\"S1\"].max() + data_zoom[\"S1\"].max()*2/100))\n",
    "ax2.set_xlabel(\"Wavelength [$nm$]\")\n",
    "ax2.set_ylabel(\"PL [c/s]\")\n",
    "ax2.xaxis.set_major_locator(ticker.FixedLocator([1210, 1220, 1230]))\n",
    "\n",
    "ax2.plot(data_zoom[\"Wavelength\"], data_zoom[\"S1\"], marker='None', c=\"crimson\", label='T2D sample')\n",
    "ax2.fill_between(Wavelength_zoom, S1_zoom, color='crimson', alpha=0.2)\n",
    "ax2.axvline(x=1218, color='gray', ls='--', lw=0.75, label='W-center ZPL')\n",
    "ax2.text(1203, 300, 'Zoom on ZPL', color='crimson', fontweight='bold')\n",
    "ax2.text(1202.5, 270, '(using high-res grating)', color='crimson', fontsize=7)\n",
    "# ax.legend(loc=2, fontsize=10)\n",
    "# ax2.legend(loc=2, fontsize=8)\n",
    "\n",
    "folder = r'C:\\Users\\YB274940\\Desktop'\n",
    "save_fig('T2D', folder, dpi=800, bbox_inches='tight', pad=0.1)\n",
    "pass"
   ]
  },
  {
   "cell_type": "markdown",
   "id": "e964f35e",
   "metadata": {},
   "source": [
    "# Broad Spectrum"
   ]
  },
  {
   "cell_type": "code",
   "execution_count": null,
   "id": "06f6c67c",
   "metadata": {},
   "outputs": [],
   "source": [
    "filename = r'C:\\Users\\YB274940\\Desktop\\Data_run14\\20230828\\20230828_T1A_0p8mW_900tr_broad.txt' #T1A HD (28/08/2023)"
   ]
  },
  {
   "cell_type": "code",
   "execution_count": null,
   "id": "2f7ed715",
   "metadata": {},
   "outputs": [],
   "source": [
    "data = pd.read_csv(filename, sep='\t', skiprows=0)\n",
    "data['Wavelength_u'] = data['Wavelength']/1e3\n",
    "Wavelength_u = np.array(data[\"Wavelength_u\"], dtype=float)\n",
    "S1 = np.array(data[\"S1\"], dtype=float)\n",
    "x_to_plot, y_to_plot = rebin_xy(Wavelength_u, S1, ratio=2)\n",
    "x_min, x_max = data[\"Wavelength\"].min()/1e3, data[\"Wavelength\"].max()/1e3\n",
    "# y_min, y_max = 0,(data[\"S1\"].max() + data[\"S1\"].max()*2/100)/1e3\n",
    "y_min, y_max = 0.01,(data[\"S1\"].max() + data[\"S1\"].max()*20/100)/1e3\n",
    "\n",
    "# PLOT\n",
    "fig, ax = plt.subplots(figsize=(8, 4))\n",
    "ax.set_xlim(x_min, x_max)\n",
    "ax.set_ylim(y_min, y_max)\n",
    "ax.set_xlabel(\"Wavelength [$\\mu m$]\")\n",
    "ax.set_ylabel(\"PL [kc/s]\")\n",
    "ax.xaxis.set_major_locator(plt.MaxNLocator(10))\n",
    "ax.plot(x_to_plot, y_to_plot/1e3, marker='None', c=\"dodgerblue\")\n",
    "ax.fill_between(x_to_plot, y_to_plot/1e3, color='dodgerblue', alpha=0.2)\n",
    "\n",
    "ax.axvline(x=1.218, color='black', ls='--', lw=0.75, alpha=0.4)\n",
    "# ax.text(1.0, y_max-y_max*0.4, 'T1A sample', color='forestgreen', fontweight='bold')\n",
    "ax.set_yscale('log')\n",
    "pass"
   ]
  },
  {
   "cell_type": "code",
   "execution_count": null,
   "id": "c3aa5db0",
   "metadata": {},
   "outputs": [],
   "source": []
  },
  {
   "cell_type": "code",
   "execution_count": null,
   "id": "98adbf88-343f-4403-9f69-dd451a86d927",
   "metadata": {},
   "outputs": [],
   "source": []
  },
  {
   "cell_type": "code",
   "execution_count": null,
   "id": "1363be37-266a-4aec-902f-6a42694809cf",
   "metadata": {},
   "outputs": [],
   "source": []
  },
  {
   "cell_type": "code",
   "execution_count": null,
   "id": "08d2c039-cf9f-426c-af9f-c70334589edf",
   "metadata": {},
   "outputs": [],
   "source": []
  },
  {
   "cell_type": "code",
   "execution_count": null,
   "id": "ebbdc5a7-37c4-475e-92e9-48888e151688",
   "metadata": {
    "tags": []
   },
   "outputs": [],
   "source": [
    "import os\n",
    "import pandas as pd\n",
    "import ntpath\n",
    "import numpy as np\n",
    "\n",
    "# Specify the main directory where your data folders are located\n",
    "main_directory = r'C:\\Users\\YB274940\\Desktop\\Data_run14'\n",
    "\n",
    "# Get a list of all subdirectories in the main directory\n",
    "subdirectories = [d for d in os.listdir(main_directory) if os.path.isdir(os.path.join(main_directory, d))]\n",
    "\n",
    "# Create an empty list to store DataFrames\n",
    "dfs = []\n",
    "\n",
    "# Loop through each subdirectory and read the CSV files into DataFrames\n",
    "for subdirectory in subdirectories:\n",
    "    folder_path = os.path.join(main_directory, subdirectory)\n",
    "    \n",
    "    # Assuming all CSV files have the same structure, adjust as needed\n",
    "    for file in os.listdir(folder_path):\n",
    "        if file.endswith('.txt'):\n",
    "            file_path = os.path.join(folder_path, file)\n",
    "            df = pd.read_csv(file_path, sep='\t', skiprows=0)\n",
    "            dfs.append(pd.Series({'wavelength': np.array(df.iloc[:,0]), 'pl_intensity': np.array(df.iloc[:,1]), 'filename': ntpath.basename(file)}).to_frame().transpose())\n",
    "\n",
    "# Concatenate all DataFrames into a single DataFrame\n",
    "final_df = pd.concat(dfs, ignore_index=True)"
   ]
  },
  {
   "cell_type": "code",
   "execution_count": null,
   "id": "16328224-8806-46fe-96c0-a1aa8e7f9673",
   "metadata": {
    "tags": []
   },
   "outputs": [],
   "source": [
    "# final_df"
   ]
  },
  {
   "cell_type": "code",
   "execution_count": null,
   "id": "05270aca-7b24-4e4c-adfb-1be1f5134e76",
   "metadata": {
    "tags": []
   },
   "outputs": [],
   "source": [
    "import matplotlib.pyplot as plt\n",
    "fig, ax = plt.subplots(figsize=(8, 4))\n",
    "\n",
    "j=0\n",
    "for i, row in final_df.iterrows():\n",
    "    if len(row.wavelength) == 256:\n",
    "        if '900tr' not in row.filename:\n",
    "            if '_S' in row.filename:\n",
    "                if '1200' in row.filename:\n",
    "                    ax.plot(row.wavelength, row.pl_intensity+j*5e3, marker='None', label=row.filename[9:-22])\n",
    "                    j += 1\n",
    "ax.set_ylim(0, 50e3)\n",
    "ax.legend(ncol=3)\n",
    "pass"
   ]
  },
  {
   "cell_type": "code",
   "execution_count": null,
   "id": "5ebf7ae6-fe29-4a44-b766-abe6c64c2e37",
   "metadata": {
    "tags": []
   },
   "outputs": [],
   "source": [
    "# Assuming you've already filtered the DataFrame as shown in the previous example\n",
    "given_string = '_T'\n",
    "filtered_df = final_df[final_df['filename'].str.contains(given_string)]\n",
    "\n",
    "# Iterate through the rows and print information\n",
    "for index, row in filtered_df.iterrows():\n",
    "    if '900tr' not in row.filename:\n",
    "        filename = row['filename']\n",
    "        wavelength_length = len(row['wavelength'])\n",
    "\n",
    "        print(f\"Filename: {filename}, Wavelength Length: {wavelength_length}\")"
   ]
  },
  {
   "cell_type": "code",
   "execution_count": null,
   "id": "f891451c-9a14-43cd-b503-23ece9b7ceac",
   "metadata": {
    "tags": []
   },
   "outputs": [],
   "source": [
    "import matplotlib.pyplot as plt\n",
    "fig, ax = plt.subplots(figsize=(8, 4))\n",
    "\n",
    "j=0\n",
    "for i, row in final_df.iterrows():\n",
    "    if len(row.wavelength) == 256:\n",
    "        if '900tr' not in row.filename:\n",
    "            if '_T' in row.filename:\n",
    "                # if '1200' in row.filename:\n",
    "                ax.plot(row.wavelength, row.pl_intensity+j*5e3, marker='None', label=row.filename[9:-4])\n",
    "                j += 1\n",
    "# ax.set_ylim(0, 50e3)\n",
    "ax.legend(ncol=3)\n",
    "pass"
   ]
  }
 ],
 "metadata": {
  "jupytext": {
   "formats": "ipynb,md"
  },
  "kernelspec": {
   "display_name": "Python 3 (ipykernel)",
   "language": "python",
   "name": "python3"
  },
  "language_info": {
   "codemirror_mode": {
    "name": "ipython",
    "version": 3
   },
   "file_extension": ".py",
   "mimetype": "text/x-python",
   "name": "python",
   "nbconvert_exporter": "python",
   "pygments_lexer": "ipython3",
   "version": "3.11.4"
  }
 },
 "nbformat": 4,
 "nbformat_minor": 5
}
